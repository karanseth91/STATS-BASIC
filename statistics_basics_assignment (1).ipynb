{
  "cells": [
    {
      "cell_type": "markdown",
      "id": "8bd3c3a4",
      "metadata": {
        "id": "8bd3c3a4"
      },
      "source": [
        "### Question 1: What is the difference between descriptive statistics and inferential statistics? Explain with examples.\n",
        "**Answer:**\n",
        "- **Descriptive Statistics:** Summarizes and describes the main features of a dataset (e.g., mean of exam scores).\n",
        "- **Inferential Statistics:** Uses sample data to make inferences or predictions about a population (e.g., predicting election results using sample surveys)."
      ]
    },
    {
      "cell_type": "markdown",
      "id": "973832c3",
      "metadata": {
        "id": "973832c3"
      },
      "source": [
        "### Question 2: What is sampling in statistics? Explain the differences between random and stratified sampling.\n",
        "**Answer:**\n",
        "- **Sampling:** The process of selecting a subset of individuals from a population to estimate characteristics of the whole population.\n",
        "- **Random Sampling:** Every individual has an equal chance of being selected.\n",
        "- **Stratified Sampling:** The population is divided into groups (strata) and samples are taken proportionally from each group."
      ]
    },
    {
      "cell_type": "markdown",
      "id": "3ea36541",
      "metadata": {
        "id": "3ea36541"
      },
      "source": [
        "### Question 3: Define mean, median, and mode. Explain why these measures of central tendency are important.\n",
        "**Answer:**\n",
        "- **Mean:** The average of all values.\n",
        "- **Median:** The middle value when data is ordered.\n",
        "- **Mode:** The most frequently occurring value.\n",
        "These measures help to understand the central or typical value in a dataset."
      ]
    },
    {
      "cell_type": "markdown",
      "id": "78734f85",
      "metadata": {
        "id": "78734f85"
      },
      "source": [
        "### Question 4: Explain skewness and kurtosis. What does a positive skew imply about the data?\n",
        "**Answer:**\n",
        "- **Skewness:** Measures the asymmetry of a distribution.\n",
        "- **Kurtosis:** Measures the peakedness of a distribution.\n",
        "- **Positive Skew:** Implies that the data has a long right tail; most values are concentrated on the left."
      ]
    },
    {
      "cell_type": "markdown",
      "id": "3571109b",
      "metadata": {
        "id": "3571109b"
      },
      "source": [
        "### Question 5: Implement a Python program to compute the mean, median, and mode of a given list of numbers.\n",
        "**Answer:**"
      ]
    },
    {
      "cell_type": "code",
      "execution_count": null,
      "id": "342de896",
      "metadata": {
        "id": "342de896"
      },
      "outputs": [],
      "source": [
        "import numpy as np\n",
        "from statistics import mode\n",
        "\n",
        "numbers = [12, 15, 12, 18, 19, 12, 20, 22, 19, 19, 24, 24, 24, 26, 28]\n",
        "\n",
        "mean_val = np.mean(numbers)\n",
        "median_val = np.median(numbers)\n",
        "mode_val = mode(numbers)\n",
        "\n",
        "print(\"Mean:\", mean_val)\n",
        "print(\"Median:\", median_val)\n",
        "print(\"Mode:\", mode_val)"
      ]
    },
    {
      "cell_type": "markdown",
      "id": "77b4994c",
      "metadata": {
        "id": "77b4994c"
      },
      "source": [
        "### Question 6: Compute the covariance and correlation coefficient between the following two datasets provided as lists in Python.\n",
        "**Answer:**"
      ]
    },
    {
      "cell_type": "code",
      "execution_count": null,
      "id": "4cd82fde",
      "metadata": {
        "id": "4cd82fde"
      },
      "outputs": [],
      "source": [
        "list_x = [10, 20, 30, 40, 50]\n",
        "list_y = [15, 25, 35, 45, 60]\n",
        "\n",
        "cov_matrix = np.cov(list_x, list_y, bias=True)\n",
        "cov_xy = cov_matrix[0,1]\n",
        "corr_xy = np.corrcoef(list_x, list_y)[0,1]\n",
        "\n",
        "print(\"Covariance:\", cov_xy)\n",
        "print(\"Correlation Coefficient:\", corr_xy)"
      ]
    },
    {
      "cell_type": "markdown",
      "id": "bd45b467",
      "metadata": {
        "id": "bd45b467"
      },
      "source": [
        "### Question 7: Write a Python script to draw a boxplot for the following numeric list and identify its outliers. Explain the result.\n",
        "**Answer:**"
      ]
    },
    {
      "cell_type": "code",
      "execution_count": null,
      "id": "5f7834eb",
      "metadata": {
        "id": "5f7834eb"
      },
      "outputs": [],
      "source": [
        "import matplotlib.pyplot as plt\n",
        "\n",
        "data = [12, 14, 14, 15, 18, 19, 19, 21, 22, 22, 23, 23, 24, 26, 29, 35]\n",
        "\n",
        "plt.boxplot(data)\n",
        "plt.title(\"Boxplot of Data\")\n",
        "plt.show()"
      ]
    },
    {
      "cell_type": "markdown",
      "id": "00b18a44",
      "metadata": {
        "id": "00b18a44"
      },
      "source": [
        "### Question 8: You are working as a data analyst in an e-commerce company. The marketing team wants to know if there is a relationship between advertising spend and daily sales.\n",
        "**Answer:**\n",
        "- Covariance shows direction of relationship.\n",
        "- Correlation shows strength and direction of relationship."
      ]
    },
    {
      "cell_type": "code",
      "execution_count": null,
      "id": "d46f69b1",
      "metadata": {
        "id": "d46f69b1"
      },
      "outputs": [],
      "source": [
        "advertising_spend = [200, 250, 300, 400, 500]\n",
        "daily_sales = [2200, 2450, 2750, 3200, 4000]\n",
        "\n",
        "corr_value = np.corrcoef(advertising_spend, daily_sales)[0,1]\n",
        "print(\"Correlation between advertising spend and daily sales:\", corr_value)"
      ]
    },
    {
      "cell_type": "markdown",
      "id": "9bef0cb5",
      "metadata": {
        "id": "9bef0cb5"
      },
      "source": [
        "### Question 9: Your team has collected customer satisfaction survey data on a scale of 1-10 and wants to understand its distribution before launching a new product.\n",
        "**Answer:**\n",
        "- Use summary statistics: mean, standard deviation.\n",
        "- Use visualization: histogram to see distribution."
      ]
    },
    {
      "cell_type": "code",
      "execution_count": null,
      "id": "63659c96",
      "metadata": {
        "id": "63659c96"
      },
      "outputs": [],
      "source": [
        "survey_scores = [7, 8, 5, 9, 6, 7, 8, 9, 10, 4, 7, 6, 9, 8, 7]\n",
        "\n",
        "print(\"Mean:\", np.mean(survey_scores))\n",
        "print(\"Standard Deviation:\", np.std(survey_scores))\n",
        "\n",
        "plt.hist(survey_scores, bins=6, edgecolor='black')\n",
        "plt.title(\"Histogram of Survey Scores\")\n",
        "plt.xlabel(\"Score\")\n",
        "plt.ylabel(\"Frequency\")\n",
        "plt.show()"
      ]
    }
  ],
  "metadata": {
    "colab": {
      "provenance": []
    }
  },
  "nbformat": 4,
  "nbformat_minor": 5
}